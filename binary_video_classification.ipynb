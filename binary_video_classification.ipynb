{
 "cells": [
  {
   "cell_type": "code",
   "execution_count": 1,
   "id": "68f070be",
   "metadata": {},
   "outputs": [
    {
     "name": "stderr",
     "output_type": "stream",
     "text": [
      "/Users/dmitry/Desktop/venvs/kb_worker_venv/lib/python3.10/site-packages/tqdm/auto.py:22: TqdmWarning: IProgress not found. Please update jupyter and ipywidgets. See https://ipywidgets.readthedocs.io/en/stable/user_install.html\n",
      "  from .autonotebook import tqdm as notebook_tqdm\n"
     ]
    }
   ],
   "source": [
    "import copy\n",
    "import os\n",
    "import random\n",
    "import re\n",
    "\n",
    "import numpy as np\n",
    "import torch\n",
    "import torchvision.transforms as transforms\n",
    "from PIL import Image\n",
    "from sklearn.metrics import accuracy_score\n",
    "from torch import nn\n",
    "from torch.optim.lr_scheduler import CosineAnnealingLR, ReduceLROnPlateau\n",
    "from torch.utils.data import DataLoader, Dataset\n",
    "from torchvision import models\n",
    "from tqdm import tqdm\n",
    "\n",
    "from src.model import Resnt18Rnn, Identity\n",
    "from src.prediction import predict_label\n",
    "import wandb\n",
    "\n",
    "def seed_everything(seed=1234):\n",
    "    random.seed(seed)\n",
    "    os.environ[\"PYTHONHASHSEED\"] = str(seed)\n",
    "    np.random.seed(seed)\n",
    "    torch.manual_seed(seed)\n",
    "    torch.cuda.manual_seed(seed)\n",
    "    torch.backends.cudnn.deterministic = True\n",
    "seed_everything(2023)"
   ]
  },
  {
   "cell_type": "code",
   "execution_count": 2,
   "id": "e7554738",
   "metadata": {},
   "outputs": [
    {
     "name": "stderr",
     "output_type": "stream",
     "text": [
      "\u001b[34m\u001b[1mwandb\u001b[0m: Logging into wandb.ai. (Learn how to deploy a W&B server locally: https://wandb.me/wandb-server)\n",
      "\u001b[34m\u001b[1mwandb\u001b[0m: You can find your API key in your browser here: https://wandb.ai/authorize\n",
      "\u001b[34m\u001b[1mwandb\u001b[0m: Paste an API key from your profile and hit enter, or press ctrl+c to quit:\u001b[34m\u001b[1mwandb\u001b[0m: Paste an API key from your profile and hit enter, or press ctrl+c to quit:\u001b[34m\u001b[1mwandb\u001b[0m: Appending key for api.wandb.ai to your netrc file: /Users/dmitry/.netrc\n"
     ]
    },
    {
     "data": {
      "text/html": [
       "Tracking run with wandb version 0.13.7"
      ],
      "text/plain": [
       "<IPython.core.display.HTML object>"
      ]
     },
     "metadata": {},
     "output_type": "display_data"
    },
    {
     "data": {
      "text/html": [
       "Run data is saved locally in <code>/Users/dmitry/Desktop/cv_itmo/video_classification/wandb/run-20230108_222020-3o8y47c6</code>"
      ],
      "text/plain": [
       "<IPython.core.display.HTML object>"
      ]
     },
     "metadata": {},
     "output_type": "display_data"
    },
    {
     "data": {
      "text/html": [
       "Syncing run <strong><a href=\"https://wandb.ai/cv-itmo/video_classification/runs/3o8y47c6\" target=\"_blank\">CnnResnet_exp1</a></strong> to <a href=\"https://wandb.ai/cv-itmo/video_classification\" target=\"_blank\">Weights & Biases</a> (<a href=\"https://wandb.me/run\" target=\"_blank\">docs</a>)<br/>"
      ],
      "text/plain": [
       "<IPython.core.display.HTML object>"
      ]
     },
     "metadata": {},
     "output_type": "display_data"
    },
    {
     "data": {
      "text/html": [
       "<button onClick=\"this.nextSibling.style.display='block';this.style.display='none';\">Display W&B run</button><iframe src=\"https://wandb.ai/cv-itmo/video_classification/runs/3o8y47c6?jupyter=true\" style=\"border:none;width:100%;height:420px;display:none;\"></iframe>"
      ],
      "text/plain": [
       "<wandb.sdk.wandb_run.Run at 0x17e3d3760>"
      ]
     },
     "execution_count": 2,
     "metadata": {},
     "output_type": "execute_result"
    }
   ],
   "source": [
    "wandb.init(\n",
    "    project='video_classification',\n",
    "    name=f'CnnResnet_exp1',\n",
    "    config={\n",
    "        \"epochs\": 10,\n",
    "        \"batch_size\": 4,\n",
    "        \"timestamps\": 4,\n",
    "    },\n",
    ")"
   ]
  },
  {
   "attachments": {},
   "cell_type": "markdown",
   "id": "13f097c9",
   "metadata": {},
   "source": [
    "## Dataset"
   ]
  },
  {
   "cell_type": "code",
   "execution_count": 3,
   "id": "36b24fd4",
   "metadata": {},
   "outputs": [],
   "source": [
    "class VideoDataset(Dataset):\n",
    "    def __init__(self, path, timestamps, transform):   \n",
    "        self.path = path\n",
    "        self.transform = transform\n",
    "        self.timestamps = timestamps\n",
    "\n",
    "        self.frames_path = []\n",
    "        for label in ['0','1']:\n",
    "            label_path = os.path.join(os.path.join(self.path, label), 'images')\n",
    "            folders = [i for i in os.listdir(label_path) if '.DS' not in i]\n",
    "            for folder in folders:\n",
    "                folder_path = os.path.join(label_path, folder)\n",
    "                folder_frames = [os.path.join(folder_path, i) for i in os.listdir(folder_path)]\n",
    "                folder_frames.sort(key=self.__natural_keys__)\n",
    "                self.frames_path.extend(folder_frames)\n",
    "        \n",
    "    def __atoi__(self, text):\n",
    "        return int(text) if text.isdigit() else text\n",
    "\n",
    "    def __natural_keys__(self, text):\n",
    "        return [self.__atoi__(c) for c in re.split(r'(\\d+)', text)]\n",
    "\n",
    "    def __len__(self):\n",
    "        return int(len(self.frames_path) / self.timestamps)\n",
    "\n",
    "    def __getitem__(self, idx):\n",
    "        path2imgs = self.frames_path[idx*self.timestamps:(idx+1)*self.timestamps]\n",
    "        label = path2imgs[1].split('/')[-4]\n",
    "\n",
    "        frames = []\n",
    "        for img_path in path2imgs:\n",
    "            frame = Image.open(img_path)\n",
    "            frames.append(frame)\n",
    "        \n",
    "        for i, frame in enumerate(frames):\n",
    "            frame = self.transform(frame)\n",
    "            frames[i] = frame\n",
    "        if len(frames)>0:\n",
    "            frames = torch.stack(frames)\n",
    "        return frames, int(label)"
   ]
  },
  {
   "cell_type": "code",
   "execution_count": 4,
   "id": "f982f4d8",
   "metadata": {},
   "outputs": [],
   "source": [
    "# transform params\n",
    "h, w = 224, 224\n",
    "mean = [0.485, 0.456, 0.406]\n",
    "std = [0.229, 0.224, 0.225]"
   ]
  },
  {
   "cell_type": "code",
   "execution_count": 5,
   "id": "476106c3",
   "metadata": {},
   "outputs": [],
   "source": [
    "train_transforms = transforms.Compose([\n",
    "            transforms.Resize((h,w)),\n",
    "            transforms.RandomHorizontalFlip(p=0.5),\n",
    "            transforms.RandomAffine(degrees=0, translate=(0.1,0.1)),\n",
    "            transforms.ToTensor(),\n",
    "            transforms.Normalize(mean, std),\n",
    "            ])"
   ]
  },
  {
   "cell_type": "code",
   "execution_count": 6,
   "id": "5bfffd90",
   "metadata": {},
   "outputs": [],
   "source": [
    "train_path = '/Users/dmitry/Desktop/cv_itmo/video_classification/data/train/'\n",
    "val_path = '/Users/dmitry/Desktop/cv_itmo/video_classification/data/val/'\n",
    "\n",
    "train_ds = VideoDataset(path=train_path, timestamps=4, transform=train_transforms)\n",
    "val_ds = VideoDataset(path=val_path, timestamps=4, transform=train_transforms)"
   ]
  },
  {
   "cell_type": "code",
   "execution_count": 7,
   "id": "f7755460",
   "metadata": {},
   "outputs": [
    {
     "data": {
      "text/plain": [
       "torch.Size([4, 3, 224, 224])"
      ]
     },
     "execution_count": 7,
     "metadata": {},
     "output_type": "execute_result"
    }
   ],
   "source": [
    "val_ds.__getitem__(100)[0].shape"
   ]
  },
  {
   "cell_type": "code",
   "execution_count": 8,
   "id": "c6aebdee",
   "metadata": {},
   "outputs": [],
   "source": [
    "def collate_fn_rnn(batch):\n",
    "    imgs_batch, label_batch = list(zip(*batch))\n",
    "    imgs_batch = [imgs for imgs in imgs_batch if len(imgs)>0]\n",
    "    label_batch = [torch.tensor(l) for l, imgs in zip(label_batch, imgs_batch) if len(imgs)>0]\n",
    "    imgs_tensor = torch.stack(imgs_batch)\n",
    "    labels_tensor = torch.stack(label_batch)\n",
    "    return imgs_tensor, labels_tensor"
   ]
  },
  {
   "cell_type": "code",
   "execution_count": 9,
   "id": "55ff4b3d",
   "metadata": {},
   "outputs": [],
   "source": [
    "train_dataloader = DataLoader(train_ds, batch_size=4, shuffle=True, collate_fn=collate_fn_rnn)\n",
    "val_dataloader = DataLoader(val_ds, batch_size=4, shuffle=False, collate_fn=collate_fn_rnn)"
   ]
  },
  {
   "attachments": {},
   "cell_type": "markdown",
   "id": "a4f11106",
   "metadata": {},
   "source": [
    "## Model"
   ]
  },
  {
   "cell_type": "code",
   "execution_count": 11,
   "id": "4ac2e9d9",
   "metadata": {},
   "outputs": [],
   "source": [
    "num_classes = 2\n",
    "params_model={\n",
    "    \"num_classes\": num_classes,\n",
    "    \"dr_rate\": 0.1,\n",
    "    \"weights\" : 'ResNet18_Weights.IMAGENET1K_V1',\n",
    "    \"rnn_num_layers\": 1,\n",
    "    \"rnn_hidden_size\": 100,}\n",
    "model = Resnt18Rnn(params_model)"
   ]
  },
  {
   "cell_type": "code",
   "execution_count": 12,
   "id": "8ba692b0",
   "metadata": {},
   "outputs": [
    {
     "data": {
      "text/plain": [
       "(torch.Size([4, 4, 3, 224, 224]), torch.Size([4]))"
      ]
     },
     "execution_count": 12,
     "metadata": {},
     "output_type": "execute_result"
    }
   ],
   "source": [
    "x,y = next(iter(train_dataloader))\n",
    "x.shape, y.shape"
   ]
  },
  {
   "cell_type": "code",
   "execution_count": 14,
   "id": "a2ada8d4",
   "metadata": {},
   "outputs": [],
   "source": [
    "with torch.no_grad():\n",
    "    y_pred = model(x)"
   ]
  },
  {
   "cell_type": "code",
   "execution_count": 15,
   "id": "7c0e3272",
   "metadata": {},
   "outputs": [
    {
     "name": "stdout",
     "output_type": "stream",
     "text": [
      "tensor([[ 1.5605e-01, -1.2749e-01],\n",
      "        [ 1.6692e-01,  3.1535e-02],\n",
      "        [ 9.9931e-02, -2.8290e-05],\n",
      "        [ 2.5767e-01, -1.2400e-01]])\n"
     ]
    },
    {
     "data": {
      "text/plain": [
       "(tensor([0, 0, 0, 0]), tensor([0, 1, 1, 1]))"
      ]
     },
     "execution_count": 15,
     "metadata": {},
     "output_type": "execute_result"
    }
   ],
   "source": [
    "print(y_pred)\n",
    "torch.argmax(y_pred,dim=1), y"
   ]
  },
  {
   "cell_type": "code",
   "execution_count": 16,
   "id": "ad706e9e",
   "metadata": {},
   "outputs": [],
   "source": [
    "EPOCHS = 10\n",
    "DEVICE = 'cpu'\n",
    "EXP_PATH = 'experiments/exp1'\n",
    "criterion = nn.CrossEntropyLoss(reduction=\"sum\")\n",
    "optimizer = torch.optim.Adam(model.parameters(), lr=3e-5)\n",
    "scheduler = ReduceLROnPlateau(optimizer, mode='min',factor=0.5, patience=5,verbose=1)"
   ]
  },
  {
   "cell_type": "code",
   "execution_count": 17,
   "id": "30cc0a7e",
   "metadata": {},
   "outputs": [],
   "source": [
    "def train_model():\n",
    "    best_model = None\n",
    "    best_acc = 0\n",
    "    best_epoch = 0\n",
    "    \n",
    "    checkpoint_save_path = f'{EXP_PATH}/checkpoints'\n",
    "    os.makedirs(checkpoint_save_path,exist_ok=True)\n",
    "    \n",
    "    for epoch in range(EPOCHS):\n",
    "\n",
    "        model.train()\n",
    "        train_loss = 0\n",
    "        train_labels, train_preds = [], []\n",
    "\n",
    "        for step, batch in tqdm(enumerate(train_dataloader), total=len(train_dataloader), desc=f'Epoch: {epoch}'):\n",
    "            x_train, y_train = batch\n",
    "            x_train = x_train.to(DEVICE)\n",
    "            y_train = y_train.to(DEVICE)\n",
    "\n",
    "            optimizer.zero_grad()\n",
    "            \n",
    "            preds = model(x_train)\n",
    "\n",
    "            loss = criterion(preds, y_train)\n",
    "\n",
    "            loss.backward()\n",
    "            optimizer.step()\n",
    "            \n",
    "            train_loss += loss.item()\n",
    "\n",
    "            preds = preds.argmax(dim=1)\n",
    "            train_labels.extend(y_train.numpy())\n",
    "            train_preds.extend(preds.numpy())\n",
    "\n",
    "        train_loss = train_loss / len(train_dataloader)\n",
    "        train_acc = accuracy_score(train_labels, train_preds)\n",
    "        print(\"Train Loss: {0:.5f}\".format(train_loss))\n",
    "        print(\"Train Accuracy: {0:.5f}\".format(train_acc))\n",
    "\n",
    "        \n",
    "        model.eval()\n",
    "        val_labels, val_preds = [], []\n",
    "        with torch.no_grad():\n",
    "            for step, batch in tqdm(enumerate(val_dataloader), total=len(val_dataloader), desc=f'Epoch: {epoch}'):\n",
    "                x_val, y_val = batch\n",
    "                x_val = x_val.to(DEVICE)\n",
    "                y_val = y_val.to(DEVICE)\n",
    "                \n",
    "                preds = model(x_val)\n",
    "\n",
    "                preds = preds.argmax(dim=1)\n",
    "                val_labels.extend(y_val.numpy())\n",
    "                val_preds.extend(preds.numpy())\n",
    "\n",
    "        val_acc = accuracy_score(val_labels, val_preds)\n",
    "        print(\"Val Accuracy: {0:.5f}\".format(val_acc))\n",
    "\n",
    "        if val_acc > best_acc:\n",
    "            best_model = copy.deepcopy(model)\n",
    "            best_acc = val_acc\n",
    "            best_epoch = epoch\n",
    "            torch.save(best_model, f'{checkpoint_save_path}/checkpoint_{best_acc}_{best_epoch}ep.pth')\n",
    "        \n",
    "        scheduler.step(loss)\n",
    "\n",
    "        wandb.log({\"Train/Loss\" : train_loss}, step=epoch)\n",
    "        wandb.log({\"Train/Accuracy\" : train_acc}, step=epoch)\n",
    "        wandb.log({\"Val/Accuracy\" : val_acc}, step=epoch)"
   ]
  },
  {
   "cell_type": "code",
   "execution_count": 19,
   "id": "02873fb7",
   "metadata": {},
   "outputs": [
    {
     "name": "stderr",
     "output_type": "stream",
     "text": [
      "Epoch: 0: 100%|██████████| 1204/1204 [15:06<00:00,  1.33it/s]\n"
     ]
    },
    {
     "name": "stdout",
     "output_type": "stream",
     "text": [
      "Train Loss: 1.64340\n",
      "Train Accuracy: 0.82360\n"
     ]
    },
    {
     "name": "stderr",
     "output_type": "stream",
     "text": [
      "Epoch: 0: 100%|██████████| 230/230 [01:08<00:00,  3.37it/s]\n"
     ]
    },
    {
     "name": "stdout",
     "output_type": "stream",
     "text": [
      "Val Accuracy: 0.67721\n"
     ]
    },
    {
     "name": "stderr",
     "output_type": "stream",
     "text": [
      "Epoch: 1: 100%|██████████| 1204/1204 [14:57<00:00,  1.34it/s]\n"
     ]
    },
    {
     "name": "stdout",
     "output_type": "stream",
     "text": [
      "Train Loss: 1.00405\n",
      "Train Accuracy: 0.90318\n"
     ]
    },
    {
     "name": "stderr",
     "output_type": "stream",
     "text": [
      "Epoch: 1: 100%|██████████| 230/230 [01:08<00:00,  3.36it/s]\n"
     ]
    },
    {
     "name": "stdout",
     "output_type": "stream",
     "text": [
      "Val Accuracy: 0.71210\n"
     ]
    },
    {
     "name": "stderr",
     "output_type": "stream",
     "text": [
      "Epoch: 2: 100%|██████████| 1204/1204 [14:39<00:00,  1.37it/s]\n"
     ]
    },
    {
     "name": "stdout",
     "output_type": "stream",
     "text": [
      "Train Loss: 0.62762\n",
      "Train Accuracy: 0.94764\n"
     ]
    },
    {
     "name": "stderr",
     "output_type": "stream",
     "text": [
      "Epoch: 2: 100%|██████████| 230/230 [01:05<00:00,  3.49it/s]\n"
     ]
    },
    {
     "name": "stdout",
     "output_type": "stream",
     "text": [
      "Val Accuracy: 0.70883\n"
     ]
    },
    {
     "name": "stderr",
     "output_type": "stream",
     "text": [
      "Epoch: 3: 100%|██████████| 1204/1204 [14:42<00:00,  1.36it/s]\n"
     ]
    },
    {
     "name": "stdout",
     "output_type": "stream",
     "text": [
      "Train Loss: 0.45662\n",
      "Train Accuracy: 0.95969\n"
     ]
    },
    {
     "name": "stderr",
     "output_type": "stream",
     "text": [
      "Epoch: 3: 100%|██████████| 230/230 [01:09<00:00,  3.32it/s]\n"
     ]
    },
    {
     "name": "stdout",
     "output_type": "stream",
     "text": [
      "Val Accuracy: 0.66848\n"
     ]
    },
    {
     "name": "stderr",
     "output_type": "stream",
     "text": [
      "Epoch: 4: 100%|██████████| 1204/1204 [15:20<00:00,  1.31it/s]\n"
     ]
    },
    {
     "name": "stdout",
     "output_type": "stream",
     "text": [
      "Train Loss: 0.34628\n",
      "Train Accuracy: 0.97299\n"
     ]
    },
    {
     "name": "stderr",
     "output_type": "stream",
     "text": [
      "Epoch: 4: 100%|██████████| 230/230 [01:10<00:00,  3.25it/s]\n"
     ]
    },
    {
     "name": "stdout",
     "output_type": "stream",
     "text": [
      "Val Accuracy: 0.71101\n"
     ]
    },
    {
     "name": "stderr",
     "output_type": "stream",
     "text": [
      "Epoch: 5: 100%|██████████| 1204/1204 [14:59<00:00,  1.34it/s]\n"
     ]
    },
    {
     "name": "stdout",
     "output_type": "stream",
     "text": [
      "Train Loss: 0.26740\n",
      "Train Accuracy: 0.97860\n"
     ]
    },
    {
     "name": "stderr",
     "output_type": "stream",
     "text": [
      "Epoch: 5: 100%|██████████| 230/230 [01:09<00:00,  3.33it/s]\n"
     ]
    },
    {
     "name": "stdout",
     "output_type": "stream",
     "text": [
      "Val Accuracy: 0.68920\n"
     ]
    },
    {
     "name": "stderr",
     "output_type": "stream",
     "text": [
      "Epoch: 6: 100%|██████████| 1204/1204 [15:08<00:00,  1.33it/s]\n"
     ]
    },
    {
     "name": "stdout",
     "output_type": "stream",
     "text": [
      "Train Loss: 0.24352\n",
      "Train Accuracy: 0.98005\n"
     ]
    },
    {
     "name": "stderr",
     "output_type": "stream",
     "text": [
      "Epoch: 6: 100%|██████████| 230/230 [01:12<00:00,  3.18it/s]\n"
     ]
    },
    {
     "name": "stdout",
     "output_type": "stream",
     "text": [
      "Val Accuracy: 0.65213\n"
     ]
    },
    {
     "name": "stderr",
     "output_type": "stream",
     "text": [
      "Epoch: 7: 100%|██████████| 1204/1204 [15:06<00:00,  1.33it/s]\n"
     ]
    },
    {
     "name": "stdout",
     "output_type": "stream",
     "text": [
      "Train Loss: 0.21841\n",
      "Train Accuracy: 0.98130\n"
     ]
    },
    {
     "name": "stderr",
     "output_type": "stream",
     "text": [
      "Epoch: 7: 100%|██████████| 230/230 [01:08<00:00,  3.37it/s]\n"
     ]
    },
    {
     "name": "stdout",
     "output_type": "stream",
     "text": [
      "Val Accuracy: 0.67285\n"
     ]
    },
    {
     "name": "stderr",
     "output_type": "stream",
     "text": [
      "Epoch: 8: 100%|██████████| 1204/1204 [15:15<00:00,  1.31it/s]\n"
     ]
    },
    {
     "name": "stdout",
     "output_type": "stream",
     "text": [
      "Train Loss: 0.14660\n",
      "Train Accuracy: 0.98899\n"
     ]
    },
    {
     "name": "stderr",
     "output_type": "stream",
     "text": [
      "Epoch: 8: 100%|██████████| 230/230 [01:09<00:00,  3.30it/s]\n"
     ]
    },
    {
     "name": "stdout",
     "output_type": "stream",
     "text": [
      "Val Accuracy: 0.64558\n"
     ]
    },
    {
     "name": "stderr",
     "output_type": "stream",
     "text": [
      "Epoch: 9: 100%|██████████| 1204/1204 [15:04<00:00,  1.33it/s]\n"
     ]
    },
    {
     "name": "stdout",
     "output_type": "stream",
     "text": [
      "Train Loss: 0.16921\n",
      "Train Accuracy: 0.98649\n"
     ]
    },
    {
     "name": "stderr",
     "output_type": "stream",
     "text": [
      "Epoch: 9: 100%|██████████| 230/230 [01:11<00:00,  3.22it/s]"
     ]
    },
    {
     "name": "stdout",
     "output_type": "stream",
     "text": [
      "Val Accuracy: 0.69575\n"
     ]
    },
    {
     "name": "stderr",
     "output_type": "stream",
     "text": [
      "\n"
     ]
    }
   ],
   "source": [
    "train_model()"
   ]
  },
  {
   "attachments": {},
   "cell_type": "markdown",
   "id": "93876027",
   "metadata": {},
   "source": [
    "## Testing"
   ]
  },
  {
   "cell_type": "code",
   "execution_count": null,
   "id": "dccbdab0",
   "metadata": {},
   "outputs": [],
   "source": [
    "model = torch.load('experiments/exp1/checkpoints/checkpoint_0.7121046892039259_1ep.pth', map_location=DEVICE)\n",
    "model.eval()"
   ]
  },
  {
   "cell_type": "code",
   "execution_count": 20,
   "id": "c295e43d",
   "metadata": {},
   "outputs": [
    {
     "name": "stdout",
     "output_type": "stream",
     "text": [
      "data/test/0/cut_videos/images/Decorating the Christmas tree 2015\n"
     ]
    }
   ],
   "source": [
    "# go throw every class and its every folder to get list of folder paths   \n",
    "path = 'data/test/'\n",
    "all_folders = []\n",
    "for label in ['0','1']:\n",
    "    label_path = os.path.join(os.path.join(path, label), 'cut_videos/images')\n",
    "    folders = [os.path.join(label_path, i) for i in os.listdir(label_path) if '.DS' not in i]\n",
    "    all_folders.extend(folders)\n",
    "print(all_folders[0])"
   ]
  },
  {
   "cell_type": "code",
   "execution_count": 21,
   "id": "be8bd349",
   "metadata": {},
   "outputs": [],
   "source": [
    "test_transforms = transforms.Compose([\n",
    "            transforms.Resize((h,w)),\n",
    "            transforms.ToTensor(),\n",
    "            transforms.Normalize(mean, std),\n",
    "            ])"
   ]
  },
  {
   "cell_type": "code",
   "execution_count": 22,
   "id": "5128a3cb",
   "metadata": {},
   "outputs": [
    {
     "name": "stderr",
     "output_type": "stream",
     "text": [
      "100%|██████████| 34/34 [01:24<00:00,  2.48s/it]\n"
     ]
    }
   ],
   "source": [
    "timestamps = 4 # take every 4 frames of folder to predict label \n",
    "labels, predictions = [], [] # lists to save true labels and predictions\n",
    "\n",
    "for folder_path in tqdm(all_folders):\n",
    "    true_label, pred_label = predict_label(model,folder_path, timestamps, test_transforms, inference_mode=False)\n",
    "    \n",
    "    labels.append(true_label)\n",
    "    predictions.append(pred_label) "
   ]
  },
  {
   "cell_type": "code",
   "execution_count": 23,
   "id": "d9148baa",
   "metadata": {},
   "outputs": [
    {
     "data": {
      "text/plain": [
       "0.7941176470588235"
      ]
     },
     "execution_count": 23,
     "metadata": {},
     "output_type": "execute_result"
    }
   ],
   "source": [
    "accuracy_score(labels, predictions)"
   ]
  },
  {
   "cell_type": "code",
   "execution_count": null,
   "id": "db5841b1",
   "metadata": {},
   "outputs": [],
   "source": []
  },
  {
   "cell_type": "code",
   "execution_count": null,
   "id": "97b193a2",
   "metadata": {},
   "outputs": [],
   "source": []
  }
 ],
 "metadata": {
  "kernelspec": {
   "display_name": "kb_worker_venv",
   "language": "python",
   "name": "kb_worker_venv"
  },
  "language_info": {
   "codemirror_mode": {
    "name": "ipython",
    "version": 3
   },
   "file_extension": ".py",
   "mimetype": "text/x-python",
   "name": "python",
   "nbconvert_exporter": "python",
   "pygments_lexer": "ipython3",
   "version": "3.10.9 (main, Dec 15 2022, 10:44:50) [Clang 14.0.0 (clang-1400.0.29.202)]"
  }
 },
 "nbformat": 4,
 "nbformat_minor": 5
}
