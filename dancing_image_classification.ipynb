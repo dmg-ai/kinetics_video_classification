{
 "cells": [
  {
   "cell_type": "code",
   "execution_count": 1,
   "id": "68f070be",
   "metadata": {},
   "outputs": [
    {
     "name": "stderr",
     "output_type": "stream",
     "text": [
      "/Users/dmitry/Desktop/venvs/kb_worker_venv/lib/python3.10/site-packages/tqdm/auto.py:22: TqdmWarning: IProgress not found. Please update jupyter and ipywidgets. See https://ipywidgets.readthedocs.io/en/stable/user_install.html\n",
      "  from .autonotebook import tqdm as notebook_tqdm\n"
     ]
    }
   ],
   "source": [
    "import copy\n",
    "import glob\n",
    "import os\n",
    "import random\n",
    "import re\n",
    "\n",
    "\n",
    "import numpy as np\n",
    "import torch\n",
    "import torchvision.transforms as transforms\n",
    "from PIL import Image\n",
    "from sklearn.metrics import accuracy_score\n",
    "from torch import nn\n",
    "from torch.optim.lr_scheduler import CosineAnnealingLR, ReduceLROnPlateau\n",
    "from torch.utils.data import DataLoader, Dataset\n",
    "from torchvision import models\n",
    "from tqdm import tqdm\n",
    "\n",
    "import wandb\n",
    "\n",
    "def seed_everything(seed=1234):\n",
    "    random.seed(seed)\n",
    "    os.environ[\"PYTHONHASHSEED\"] = str(seed)\n",
    "    np.random.seed(seed)\n",
    "    torch.manual_seed(seed)\n",
    "    torch.cuda.manual_seed(seed)\n",
    "    torch.backends.cudnn.deterministic = True\n",
    "seed_everything(2023)"
   ]
  },
  {
   "cell_type": "code",
   "execution_count": 2,
   "id": "e7554738",
   "metadata": {},
   "outputs": [
    {
     "name": "stderr",
     "output_type": "stream",
     "text": [
      "\u001b[34m\u001b[1mwandb\u001b[0m: Currently logged in as: \u001b[33mdmitryai\u001b[0m (\u001b[33mcv-itmo\u001b[0m). Use \u001b[1m`wandb login --relogin`\u001b[0m to force relogin\n"
     ]
    },
    {
     "data": {
      "text/html": [
       "wandb version 0.13.9 is available!  To upgrade, please run:\n",
       " $ pip install wandb --upgrade"
      ],
      "text/plain": [
       "<IPython.core.display.HTML object>"
      ]
     },
     "metadata": {},
     "output_type": "display_data"
    },
    {
     "data": {
      "text/html": [
       "Tracking run with wandb version 0.13.7"
      ],
      "text/plain": [
       "<IPython.core.display.HTML object>"
      ]
     },
     "metadata": {},
     "output_type": "display_data"
    },
    {
     "data": {
      "text/html": [
       "Run data is saved locally in <code>/Users/dmitry/Desktop/cv_itmo/kinetics_video_classification/wandb/run-20230115_110814-1sje5w1g</code>"
      ],
      "text/plain": [
       "<IPython.core.display.HTML object>"
      ]
     },
     "metadata": {},
     "output_type": "display_data"
    },
    {
     "data": {
      "text/html": [
       "Syncing run <strong><a href=\"https://wandb.ai/cv-itmo/video_classification/runs/1sje5w1g\" target=\"_blank\">frames_resnet18_exp4</a></strong> to <a href=\"https://wandb.ai/cv-itmo/video_classification\" target=\"_blank\">Weights & Biases</a> (<a href=\"https://wandb.me/run\" target=\"_blank\">docs</a>)<br/>"
      ],
      "text/plain": [
       "<IPython.core.display.HTML object>"
      ]
     },
     "metadata": {},
     "output_type": "display_data"
    },
    {
     "data": {
      "text/html": [
       "<button onClick=\"this.nextSibling.style.display='block';this.style.display='none';\">Display W&B run</button><iframe src=\"https://wandb.ai/cv-itmo/video_classification/runs/1sje5w1g?jupyter=true\" style=\"border:none;width:100%;height:420px;display:none;\"></iframe>"
      ],
      "text/plain": [
       "<wandb.sdk.wandb_run.Run at 0x289bcb730>"
      ]
     },
     "execution_count": 2,
     "metadata": {},
     "output_type": "execute_result"
    }
   ],
   "source": [
    "wandb.init(\n",
    "    project='video_classification',\n",
    "    name=f'frames_resnet18_exp4',\n",
    "    config={\n",
    "        \"epochs\": 10,\n",
    "        \"batch_size\": 4,\n",
    "        \"num_classes\": 15\n",
    "        #\"timestamps\": 4,\n",
    "    },\n",
    ")"
   ]
  },
  {
   "attachments": {},
   "cell_type": "markdown",
   "id": "13f097c9",
   "metadata": {},
   "source": [
    "## Dataset"
   ]
  },
  {
   "cell_type": "code",
   "execution_count": 3,
   "id": "36b24fd4",
   "metadata": {},
   "outputs": [],
   "source": [
    "class VideoDataset(Dataset):\n",
    "    def __init__(self, path, transform):   \n",
    "        self.path = path\n",
    "        self.transform = transform\n",
    "\n",
    "        if self.path[-1] == '/':\n",
    "            self.path = self.path[:-1]\n",
    "        self.frames_path = glob.glob(f'{path}/*/*/*/*/*.jpg')\n",
    "\n",
    "    def __len__(self):\n",
    "        return len(self.frames_path)\n",
    "\n",
    "    def __getitem__(self, idx):\n",
    "        img_path = self.frames_path[idx]\n",
    "        label = img_path.split('/')[-5]\n",
    "\n",
    "        image = Image.open(img_path)\n",
    "        \n",
    "        if self.transform:\n",
    "            image = self.transform(image)\n",
    "\n",
    "        return image, int(label)"
   ]
  },
  {
   "cell_type": "code",
   "execution_count": 4,
   "id": "f982f4d8",
   "metadata": {},
   "outputs": [],
   "source": [
    "h, w = 224, 224\n",
    "mean = [0.485, 0.456, 0.406]\n",
    "std = [0.229, 0.224, 0.225]"
   ]
  },
  {
   "cell_type": "code",
   "execution_count": 5,
   "id": "476106c3",
   "metadata": {},
   "outputs": [],
   "source": [
    "train_transforms = transforms.Compose([\n",
    "            transforms.Resize((h,w)),\n",
    "            transforms.RandomHorizontalFlip(p=0.5),\n",
    "            transforms.RandomAffine(degrees=0, translate=(0.1,0.1)),\n",
    "            transforms.ToTensor(),\n",
    "            transforms.Normalize(mean, std),\n",
    "            ])"
   ]
  },
  {
   "cell_type": "code",
   "execution_count": 6,
   "id": "5bfffd90",
   "metadata": {},
   "outputs": [],
   "source": [
    "train_path = 'data/dancing_classes/train/'\n",
    "val_path = 'data/dancing_classes/val/'\n",
    "\n",
    "train_ds = VideoDataset(path=train_path, transform=train_transforms)\n",
    "val_ds = VideoDataset(path=val_path, transform=train_transforms)"
   ]
  },
  {
   "cell_type": "code",
   "execution_count": 7,
   "id": "f7755460",
   "metadata": {},
   "outputs": [
    {
     "data": {
      "text/plain": [
       "torch.Size([3, 224, 224])"
      ]
     },
     "execution_count": 7,
     "metadata": {},
     "output_type": "execute_result"
    }
   ],
   "source": [
    "val_ds.__getitem__(100)[0].shape"
   ]
  },
  {
   "cell_type": "code",
   "execution_count": 8,
   "id": "55ff4b3d",
   "metadata": {},
   "outputs": [],
   "source": [
    "train_dataloader = DataLoader(train_ds, batch_size=4, shuffle=True)\n",
    "val_dataloader = DataLoader(val_ds, batch_size=4, shuffle=False)"
   ]
  },
  {
   "attachments": {},
   "cell_type": "markdown",
   "id": "a4f11106",
   "metadata": {},
   "source": [
    "## Model"
   ]
  },
  {
   "cell_type": "code",
   "execution_count": 9,
   "id": "c03b28a1",
   "metadata": {},
   "outputs": [],
   "source": [
    "num_classes = 15\n",
    "\n",
    "model = models.resnet18(weights = 'ResNet18_Weights.IMAGENET1K_V1')\n",
    "in_features = model.fc.in_features \n",
    "model.fc = nn.Linear(in_features, num_classes)"
   ]
  },
  {
   "cell_type": "code",
   "execution_count": 10,
   "id": "8ba692b0",
   "metadata": {},
   "outputs": [
    {
     "data": {
      "text/plain": [
       "(torch.Size([4, 3, 224, 224]), torch.Size([4]))"
      ]
     },
     "execution_count": 10,
     "metadata": {},
     "output_type": "execute_result"
    }
   ],
   "source": [
    "x,y = next(iter(train_dataloader))\n",
    "x.shape, y.shape"
   ]
  },
  {
   "cell_type": "code",
   "execution_count": 11,
   "id": "a2ada8d4",
   "metadata": {},
   "outputs": [],
   "source": [
    "with torch.no_grad():\n",
    "    y_pred = model(x)"
   ]
  },
  {
   "cell_type": "code",
   "execution_count": 12,
   "id": "7c0e3272",
   "metadata": {},
   "outputs": [
    {
     "name": "stdout",
     "output_type": "stream",
     "text": [
      "tensor([[ 0.1306,  0.2246, -0.0965,  0.7036,  0.5584,  0.5220,  0.2671,  0.2731,\n",
      "          0.0797, -0.4518, -0.4624,  0.1569, -0.0666,  0.0050,  0.4203],\n",
      "        [-0.0073, -0.2855, -0.1801,  0.3643,  0.3471,  0.0073,  0.3385,  0.1524,\n",
      "          0.0640,  0.3817,  0.1087, -0.0565,  0.0150,  0.0330,  0.5160],\n",
      "        [-0.6420,  0.0615,  0.3035,  1.3193,  0.2855,  0.0889,  0.7638,  0.8355,\n",
      "          0.4275,  0.3666,  0.5812, -0.1144, -0.2759, -0.5773,  0.3460],\n",
      "        [-0.1438, -0.3745, -0.9264,  0.1535,  0.8385, -0.0587,  0.1829, -0.3209,\n",
      "          0.0775, -0.3144, -0.7160, -0.1761, -0.2518,  0.1232,  1.1149]])\n"
     ]
    },
    {
     "data": {
      "text/plain": [
       "(tensor([ 3, 14,  3, 14]), tensor([ 8,  1,  3, 13]))"
      ]
     },
     "execution_count": 12,
     "metadata": {},
     "output_type": "execute_result"
    }
   ],
   "source": [
    "print(y_pred)\n",
    "torch.argmax(y_pred,dim=1), y"
   ]
  },
  {
   "cell_type": "code",
   "execution_count": 13,
   "id": "ad706e9e",
   "metadata": {},
   "outputs": [],
   "source": [
    "EPOCHS = 5\n",
    "DEVICE = 'cpu'\n",
    "EXP_PATH = 'experiments/exp4'\n",
    "criterion = nn.CrossEntropyLoss(reduction=\"sum\")\n",
    "optimizer = torch.optim.Adam(model.parameters(), lr=3e-5)\n",
    "scheduler = ReduceLROnPlateau(optimizer, mode='min',factor=0.5, patience=5,verbose=1)"
   ]
  },
  {
   "cell_type": "code",
   "execution_count": 14,
   "id": "30cc0a7e",
   "metadata": {},
   "outputs": [],
   "source": [
    "def train_model():\n",
    "    best_model = None\n",
    "    best_acc = 0\n",
    "    best_epoch = 0\n",
    "    \n",
    "    checkpoint_save_path = f'{EXP_PATH}/checkpoints'\n",
    "    os.makedirs(checkpoint_save_path,exist_ok=True)\n",
    "    \n",
    "    for epoch in range(EPOCHS):\n",
    "\n",
    "        model.train()\n",
    "        train_loss = 0\n",
    "        train_labels, train_preds = [], []\n",
    "\n",
    "        for step, batch in tqdm(enumerate(train_dataloader), total=len(train_dataloader), desc=f'Epoch: {epoch}'):\n",
    "            x_train, y_train = batch\n",
    "            x_train = x_train.to(DEVICE)\n",
    "            y_train = y_train.to(DEVICE)\n",
    "\n",
    "            optimizer.zero_grad()\n",
    "            \n",
    "            preds = model(x_train)\n",
    "\n",
    "            loss = criterion(preds, y_train)\n",
    "\n",
    "            loss.backward()\n",
    "            optimizer.step()\n",
    "            \n",
    "            train_loss += loss.item()\n",
    "\n",
    "            preds = preds.argmax(dim=1)\n",
    "            train_labels.extend(y_train.numpy())\n",
    "            train_preds.extend(preds.numpy())\n",
    "\n",
    "        train_loss = train_loss / len(train_dataloader)\n",
    "        train_acc = accuracy_score(train_labels, train_preds)\n",
    "        print(\"Train Loss: {0:.5f}\".format(train_loss))\n",
    "        print(\"Train Accuracy: {0:.5f}\".format(train_acc))\n",
    "\n",
    "        \n",
    "        model.eval()\n",
    "        val_labels, val_preds = [], []\n",
    "        with torch.no_grad():\n",
    "            for step, batch in tqdm(enumerate(val_dataloader), total=len(val_dataloader), desc=f'Epoch: {epoch}'):\n",
    "                x_val, y_val = batch\n",
    "                x_val = x_val.to(DEVICE)\n",
    "                y_val = y_val.to(DEVICE)\n",
    "                \n",
    "                preds = model(x_val)\n",
    "\n",
    "                preds = preds.argmax(dim=1)\n",
    "                val_labels.extend(y_val.numpy())\n",
    "                val_preds.extend(preds.numpy())\n",
    "\n",
    "        val_acc = accuracy_score(val_labels, val_preds)\n",
    "        print(\"Val Accuracy: {0:.5f}\".format(val_acc))\n",
    "\n",
    "        if val_acc > best_acc:\n",
    "            best_model = copy.deepcopy(model)\n",
    "            best_acc = val_acc\n",
    "            best_epoch = epoch\n",
    "            torch.save(best_model, f'{checkpoint_save_path}/checkpoint_{best_acc}_{best_epoch}ep.pth')\n",
    "        \n",
    "        scheduler.step(loss)\n",
    "\n",
    "        wandb.log({\"Train/Loss\" : train_loss}, step=epoch)\n",
    "        wandb.log({\"Train/Accuracy\" : train_acc}, step=epoch)\n",
    "        wandb.log({\"Val/Accuracy\" : val_acc}, step=epoch)"
   ]
  },
  {
   "cell_type": "code",
   "execution_count": null,
   "id": "02873fb7",
   "metadata": {},
   "outputs": [],
   "source": [
    "train_model()"
   ]
  },
  {
   "attachments": {},
   "cell_type": "markdown",
   "id": "94d4db2a",
   "metadata": {},
   "source": [
    "## Testing"
   ]
  },
  {
   "cell_type": "code",
   "execution_count": 17,
   "id": "38d2dd12",
   "metadata": {},
   "outputs": [
    {
     "name": "stdout",
     "output_type": "stream",
     "text": [
      "\n"
     ]
    }
   ],
   "source": [
    "model = torch.load('experiments/exp4/checkpoints/checkpoint_0.34114620551665_3ep.pth', map_location='cpu')\n",
    "model.eval()\n",
    "print()"
   ]
  },
  {
   "cell_type": "code",
   "execution_count": 18,
   "id": "97b193a2",
   "metadata": {},
   "outputs": [
    {
     "data": {
      "text/plain": [
       "15"
      ]
     },
     "execution_count": 18,
     "metadata": {},
     "output_type": "execute_result"
    }
   ],
   "source": [
    "path = 'data/dancing_classes/test/'\n",
    "folders = [os.path.join(path,i) for i in os.listdir(path) if not i.endswith('.csv')]\n",
    "len(folders)"
   ]
  },
  {
   "cell_type": "code",
   "execution_count": 19,
   "id": "ea8f5000",
   "metadata": {},
   "outputs": [
    {
     "data": {
      "text/plain": [
       "['data/dancing_classes/test/9',\n",
       " 'data/dancing_classes/test/0',\n",
       " 'data/dancing_classes/test/11',\n",
       " 'data/dancing_classes/test/7']"
      ]
     },
     "execution_count": 19,
     "metadata": {},
     "output_type": "execute_result"
    }
   ],
   "source": [
    "folders[:4]"
   ]
  },
  {
   "cell_type": "code",
   "execution_count": 20,
   "id": "3d42fd45",
   "metadata": {},
   "outputs": [],
   "source": [
    "h, w = 224, 224\n",
    "mean = [0.485, 0.456, 0.406]\n",
    "std = [0.229, 0.224, 0.225]\n",
    "\n",
    "test_transforms = transforms.Compose([\n",
    "            transforms.Resize((h,w)),\n",
    "            transforms.ToTensor(),\n",
    "            transforms.Normalize(mean, std),\n",
    "            ])"
   ]
  },
  {
   "cell_type": "code",
   "execution_count": 21,
   "id": "43da8e8f",
   "metadata": {},
   "outputs": [
    {
     "name": "stderr",
     "output_type": "stream",
     "text": [
      "100%|██████████| 15/15 [02:25<00:00,  9.69s/it]\n"
     ]
    }
   ],
   "source": [
    "true_labels = []\n",
    "predictions = []\n",
    "\n",
    "for folder in tqdm(folders):\n",
    "    images = glob.glob(os.path.join(folder,'cut_videos/images/*/*.jpg'))\n",
    "\n",
    "    preds = []\n",
    "    for img_path in images:\n",
    "        img = Image.open((img_path))\n",
    "        img_tensor = test_transforms(img)\n",
    "        img_tensor = torch.unsqueeze(img_tensor,dim=0)\n",
    "        \n",
    "        with torch.no_grad():\n",
    "            pred = model(img_tensor)\n",
    "        pred_label = torch.argmax(pred, dim=1).item()\n",
    "\n",
    "        preds.append(pred_label)\n",
    "    true_labels.append(int(folder.split('/')[3]))\n",
    "    predictions.append(max(set(preds), key=preds.count)) # save most common label among all pred labels"
   ]
  },
  {
   "cell_type": "code",
   "execution_count": 22,
   "id": "5d93c9c1",
   "metadata": {},
   "outputs": [
    {
     "data": {
      "text/plain": [
       "0.4"
      ]
     },
     "execution_count": 22,
     "metadata": {},
     "output_type": "execute_result"
    }
   ],
   "source": [
    "accuracy_score(true_labels, predictions)"
   ]
  },
  {
   "cell_type": "code",
   "execution_count": null,
   "id": "9df16aa7",
   "metadata": {},
   "outputs": [],
   "source": []
  }
 ],
 "metadata": {
  "kernelspec": {
   "display_name": "kb_worker_venv",
   "language": "python",
   "name": "kb_worker_venv"
  },
  "language_info": {
   "codemirror_mode": {
    "name": "ipython",
    "version": 3
   },
   "file_extension": ".py",
   "mimetype": "text/x-python",
   "name": "python",
   "nbconvert_exporter": "python",
   "pygments_lexer": "ipython3",
   "version": "3.10.9"
  }
 },
 "nbformat": 4,
 "nbformat_minor": 5
}
