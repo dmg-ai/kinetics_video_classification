{
 "cells": [
  {
   "cell_type": "code",
   "execution_count": 1,
   "id": "68f070be",
   "metadata": {},
   "outputs": [
    {
     "name": "stderr",
     "output_type": "stream",
     "text": [
      "/opt/homebrew/lib/python3.10/site-packages/tqdm/auto.py:22: TqdmWarning: IProgress not found. Please update jupyter and ipywidgets. See https://ipywidgets.readthedocs.io/en/stable/user_install.html\n",
      "  from .autonotebook import tqdm as notebook_tqdm\n"
     ]
    }
   ],
   "source": [
    "import copy\n",
    "import os\n",
    "import random\n",
    "import re\n",
    "\n",
    "import numpy as np\n",
    "import torch\n",
    "import torchvision.transforms as transforms\n",
    "from PIL import Image\n",
    "from sklearn.metrics import accuracy_score\n",
    "from torch import nn\n",
    "from torch.optim.lr_scheduler import CosineAnnealingLR, ReduceLROnPlateau\n",
    "from torch.utils.data import DataLoader, Dataset\n",
    "from torchvision import models\n",
    "from tqdm import tqdm\n",
    "\n",
    "from src.model import Resnt18Rnn, Identity\n",
    "from src.prediction import predict_label\n",
    "import wandb\n",
    "\n",
    "def seed_everything(seed=1234):\n",
    "    random.seed(seed)\n",
    "    os.environ[\"PYTHONHASHSEED\"] = str(seed)\n",
    "    np.random.seed(seed)\n",
    "    torch.manual_seed(seed)\n",
    "    torch.cuda.manual_seed(seed)\n",
    "    torch.backends.cudnn.deterministic = True\n",
    "seed_everything(2023)"
   ]
  },
  {
   "cell_type": "code",
   "execution_count": 2,
   "id": "e7554738",
   "metadata": {},
   "outputs": [
    {
     "name": "stderr",
     "output_type": "stream",
     "text": [
      "Failed to detect the name of this notebook, you can set it manually with the WANDB_NOTEBOOK_NAME environment variable to enable code saving.\n",
      "\u001b[34m\u001b[1mwandb\u001b[0m: Currently logged in as: \u001b[33mdmitryai\u001b[0m (\u001b[33mcv-itmo\u001b[0m). Use \u001b[1m`wandb login --relogin`\u001b[0m to force relogin\n"
     ]
    },
    {
     "data": {
      "text/html": [
       "wandb version 0.13.9 is available!  To upgrade, please run:\n",
       " $ pip install wandb --upgrade"
      ],
      "text/plain": [
       "<IPython.core.display.HTML object>"
      ]
     },
     "metadata": {},
     "output_type": "display_data"
    },
    {
     "data": {
      "text/html": [
       "Tracking run with wandb version 0.13.7"
      ],
      "text/plain": [
       "<IPython.core.display.HTML object>"
      ]
     },
     "metadata": {},
     "output_type": "display_data"
    },
    {
     "data": {
      "text/html": [
       "Run data is saved locally in <code>/Users/dmitry/Desktop/cv_itmo/kinetics_video_classification/wandb/run-20230114_192640-6ny6xnpp</code>"
      ],
      "text/plain": [
       "<IPython.core.display.HTML object>"
      ]
     },
     "metadata": {},
     "output_type": "display_data"
    },
    {
     "data": {
      "text/html": [
       "Syncing run <strong><a href=\"https://wandb.ai/cv-itmo/video_classification/runs/6ny6xnpp\" target=\"_blank\">ResnetLSTM_exp3</a></strong> to <a href=\"https://wandb.ai/cv-itmo/video_classification\" target=\"_blank\">Weights & Biases</a> (<a href=\"https://wandb.me/run\" target=\"_blank\">docs</a>)<br/>"
      ],
      "text/plain": [
       "<IPython.core.display.HTML object>"
      ]
     },
     "metadata": {},
     "output_type": "display_data"
    },
    {
     "data": {
      "text/html": [
       "<button onClick=\"this.nextSibling.style.display='block';this.style.display='none';\">Display W&B run</button><iframe src=\"https://wandb.ai/cv-itmo/video_classification/runs/6ny6xnpp?jupyter=true\" style=\"border:none;width:100%;height:420px;display:none;\"></iframe>"
      ],
      "text/plain": [
       "<wandb.sdk.wandb_run.Run at 0x152cb76d0>"
      ]
     },
     "execution_count": 2,
     "metadata": {},
     "output_type": "execute_result"
    }
   ],
   "source": [
    "wandb.init(\n",
    "    project='video_classification',\n",
    "    name=f'ResnetLSTM_exp3',\n",
    "    config={\n",
    "        \"num_classes\": 15,\n",
    "        \"epochs\": 10,\n",
    "        \"batch_size\": 4,\n",
    "        \"timestamps\": 4,\n",
    "    },\n",
    ")"
   ]
  },
  {
   "attachments": {},
   "cell_type": "markdown",
   "id": "13f097c9",
   "metadata": {},
   "source": [
    "## Dataset"
   ]
  },
  {
   "cell_type": "code",
   "execution_count": 3,
   "id": "36b24fd4",
   "metadata": {},
   "outputs": [],
   "source": [
    "class VideoDataset(Dataset):\n",
    "    def __init__(self, path, timestamps, transform):   \n",
    "        self.path = path\n",
    "        self.transform = transform\n",
    "        self.timestamps = timestamps\n",
    "\n",
    "        self.frames_path = []\n",
    "        labels = [i for i in os.listdir(self.path) if not i.endswith('.csv')]\n",
    "        for label in tqdm(labels):\n",
    "            label_path = os.path.join(os.path.join(self.path, label), 'cut_videos/images')\n",
    "            folders = [i for i in os.listdir(label_path) if '.DS' not in i]\n",
    "            for folder in folders:\n",
    "                folder_path = os.path.join(label_path, folder)\n",
    "                folder_frames = [os.path.join(folder_path, i) for i in os.listdir(folder_path)]\n",
    "                folder_frames.sort(key=self.__natural_keys__)\n",
    "                self.frames_path.extend(folder_frames)\n",
    "        print(len(self.frames_path))\n",
    "        \n",
    "    def __atoi__(self, text):\n",
    "        return int(text) if text.isdigit() else text\n",
    "\n",
    "    def __natural_keys__(self, text):\n",
    "        return [self.__atoi__(c) for c in re.split(r'(\\d+)', text)]\n",
    "\n",
    "    def __len__(self):\n",
    "        return int(len(self.frames_path) / self.timestamps)\n",
    "\n",
    "    def __getitem__(self, idx):\n",
    "        path2imgs = self.frames_path[idx*self.timestamps:(idx+1)*self.timestamps]\n",
    "        label = path2imgs[1].split('/')[-5]\n",
    "\n",
    "        frames = []\n",
    "        for img_path in path2imgs:\n",
    "            frame = Image.open(img_path)\n",
    "            frames.append(frame)\n",
    "        \n",
    "        for i, frame in enumerate(frames):\n",
    "            frame = self.transform(frame)\n",
    "            frames[i] = frame\n",
    "        if len(frames)>0:\n",
    "            frames = torch.stack(frames)\n",
    "        return frames, int(label)"
   ]
  },
  {
   "cell_type": "code",
   "execution_count": 4,
   "id": "f982f4d8",
   "metadata": {},
   "outputs": [],
   "source": [
    "# transform params\n",
    "h, w = 224, 224\n",
    "mean = [0.485, 0.456, 0.406]\n",
    "std = [0.229, 0.224, 0.225]"
   ]
  },
  {
   "cell_type": "code",
   "execution_count": 5,
   "id": "476106c3",
   "metadata": {},
   "outputs": [],
   "source": [
    "train_transforms = transforms.Compose([\n",
    "            transforms.Resize((h,w)),\n",
    "            transforms.RandomHorizontalFlip(p=0.5),\n",
    "            transforms.RandomAffine(degrees=0, translate=(0.1,0.1)),\n",
    "            transforms.ToTensor(),\n",
    "            transforms.Normalize(mean, std),\n",
    "            ])"
   ]
  },
  {
   "cell_type": "code",
   "execution_count": 6,
   "id": "5bfffd90",
   "metadata": {},
   "outputs": [
    {
     "name": "stderr",
     "output_type": "stream",
     "text": [
      "100%|██████████| 15/15 [00:00<00:00, 49.34it/s]\n"
     ]
    },
    {
     "name": "stdout",
     "output_type": "stream",
     "text": [
      "68985\n"
     ]
    },
    {
     "name": "stderr",
     "output_type": "stream",
     "text": [
      "100%|██████████| 15/15 [00:00<00:00, 475.57it/s]"
     ]
    },
    {
     "name": "stdout",
     "output_type": "stream",
     "text": [
      "6997\n"
     ]
    },
    {
     "name": "stderr",
     "output_type": "stream",
     "text": [
      "\n"
     ]
    }
   ],
   "source": [
    "train_path = '/Users/dmitry/Desktop/cv_itmo/kinetics_video_classification/data/dancing_classes/train/'\n",
    "val_path = '/Users/dmitry/Desktop/cv_itmo/kinetics_video_classification/data/dancing_classes/val/'\n",
    "\n",
    "train_ds = VideoDataset(path=train_path, timestamps=4, transform=train_transforms)\n",
    "val_ds = VideoDataset(path=val_path, timestamps=4, transform=train_transforms)"
   ]
  },
  {
   "cell_type": "code",
   "execution_count": 7,
   "id": "f7755460",
   "metadata": {},
   "outputs": [
    {
     "data": {
      "text/plain": [
       "torch.Size([4, 3, 224, 224])"
      ]
     },
     "execution_count": 7,
     "metadata": {},
     "output_type": "execute_result"
    }
   ],
   "source": [
    "val_ds.__getitem__(100)[0].shape"
   ]
  },
  {
   "cell_type": "code",
   "execution_count": 8,
   "id": "c6aebdee",
   "metadata": {},
   "outputs": [],
   "source": [
    "def collate_fn_rnn(batch):\n",
    "    imgs_batch, label_batch = list(zip(*batch))\n",
    "    imgs_batch = [imgs for imgs in imgs_batch if len(imgs)>0]\n",
    "    label_batch = [torch.tensor(l) for l, imgs in zip(label_batch, imgs_batch) if len(imgs)>0]\n",
    "    imgs_tensor = torch.stack(imgs_batch)\n",
    "    labels_tensor = torch.stack(label_batch)\n",
    "    return imgs_tensor, labels_tensor"
   ]
  },
  {
   "cell_type": "code",
   "execution_count": 9,
   "id": "55ff4b3d",
   "metadata": {},
   "outputs": [],
   "source": [
    "train_dataloader = DataLoader(train_ds, batch_size=4, shuffle=True, collate_fn=collate_fn_rnn)\n",
    "val_dataloader = DataLoader(val_ds, batch_size=4, shuffle=False, collate_fn=collate_fn_rnn)"
   ]
  },
  {
   "attachments": {},
   "cell_type": "markdown",
   "id": "a4f11106",
   "metadata": {},
   "source": [
    "## Model"
   ]
  },
  {
   "cell_type": "code",
   "execution_count": 10,
   "id": "4ac2e9d9",
   "metadata": {},
   "outputs": [],
   "source": [
    "num_classes = 15\n",
    "params_model={\n",
    "    \"num_classes\": num_classes,\n",
    "    \"dr_rate\": 0.1,\n",
    "    \"weights\" : 'ResNet18_Weights.IMAGENET1K_V1',\n",
    "    \"rnn_num_layers\": 1,\n",
    "    \"rnn_hidden_size\": 100,}\n",
    "model = Resnt18Rnn(params_model)"
   ]
  },
  {
   "cell_type": "code",
   "execution_count": 11,
   "id": "8ba692b0",
   "metadata": {},
   "outputs": [
    {
     "data": {
      "text/plain": [
       "(torch.Size([4, 4, 3, 224, 224]), torch.Size([4]))"
      ]
     },
     "execution_count": 11,
     "metadata": {},
     "output_type": "execute_result"
    }
   ],
   "source": [
    "x,y = next(iter(train_dataloader))\n",
    "x.shape, y.shape"
   ]
  },
  {
   "cell_type": "code",
   "execution_count": 12,
   "id": "a2ada8d4",
   "metadata": {},
   "outputs": [],
   "source": [
    "with torch.no_grad():\n",
    "    y_pred = model(x)"
   ]
  },
  {
   "cell_type": "code",
   "execution_count": 13,
   "id": "7c0e3272",
   "metadata": {},
   "outputs": [
    {
     "name": "stdout",
     "output_type": "stream",
     "text": [
      "tensor([[ 0.0833,  0.0790,  0.1301,  0.0314, -0.3942,  0.0745,  0.1487,  0.2896,\n",
      "          0.2166,  0.0855,  0.1833,  0.0677,  0.0642,  0.3404, -0.1077],\n",
      "        [ 0.1898, -0.1707,  0.2747,  0.0863, -0.4098,  0.2068,  0.1302,  0.2429,\n",
      "          0.2816,  0.0096,  0.1598,  0.0636, -0.1549,  0.3657, -0.1184],\n",
      "        [ 0.2681, -0.0837,  0.0923,  0.2646, -0.1522, -0.0604,  0.0724, -0.0726,\n",
      "          0.3242, -0.0113, -0.0414,  0.0299, -0.1013,  0.5147, -0.0511],\n",
      "        [ 0.2139, -0.0356,  0.2055,  0.1244, -0.1714, -0.0193,  0.0915,  0.1428,\n",
      "          0.2525,  0.0847, -0.0321, -0.0231, -0.1442,  0.2625, -0.0798]])\n"
     ]
    },
    {
     "data": {
      "text/plain": [
       "(tensor([13, 13, 13, 13]), tensor([12, 12, 14,  0]))"
      ]
     },
     "execution_count": 13,
     "metadata": {},
     "output_type": "execute_result"
    }
   ],
   "source": [
    "print(y_pred)\n",
    "torch.argmax(y_pred,dim=1), y"
   ]
  },
  {
   "cell_type": "code",
   "execution_count": 14,
   "id": "ad706e9e",
   "metadata": {},
   "outputs": [],
   "source": [
    "EPOCHS = 10\n",
    "DEVICE = 'cpu'\n",
    "EXP_PATH = 'experiments/exp3'\n",
    "criterion = nn.CrossEntropyLoss(reduction=\"sum\")\n",
    "optimizer = torch.optim.Adam(model.parameters(), lr=3e-5)\n",
    "scheduler = ReduceLROnPlateau(optimizer, mode='min',factor=0.5, patience=5,verbose=1)"
   ]
  },
  {
   "cell_type": "code",
   "execution_count": 15,
   "id": "30cc0a7e",
   "metadata": {},
   "outputs": [],
   "source": [
    "def train_model():\n",
    "    best_model = None\n",
    "    best_acc = 0\n",
    "    best_epoch = 0\n",
    "    \n",
    "    checkpoint_save_path = f'{EXP_PATH}/checkpoints'\n",
    "    os.makedirs(checkpoint_save_path,exist_ok=True)\n",
    "    \n",
    "    for epoch in range(EPOCHS):\n",
    "\n",
    "        model.train()\n",
    "        train_loss = 0\n",
    "        train_labels, train_preds = [], []\n",
    "\n",
    "        for step, batch in tqdm(enumerate(train_dataloader), total=len(train_dataloader), desc=f'Epoch: {epoch}'):\n",
    "            x_train, y_train = batch\n",
    "            x_train = x_train.to(DEVICE)\n",
    "            y_train = y_train.to(DEVICE)\n",
    "\n",
    "            optimizer.zero_grad()\n",
    "            \n",
    "            preds = model(x_train)\n",
    "\n",
    "            loss = criterion(preds, y_train)\n",
    "\n",
    "            loss.backward()\n",
    "            optimizer.step()\n",
    "            \n",
    "            train_loss += loss.item()\n",
    "\n",
    "            preds = preds.argmax(dim=1)\n",
    "            train_labels.extend(y_train.numpy())\n",
    "            train_preds.extend(preds.numpy())\n",
    "\n",
    "        train_loss = train_loss / len(train_dataloader)\n",
    "        train_acc = accuracy_score(train_labels, train_preds, )\n",
    "        print(\"Train Loss: {0:.5f}\".format(train_loss))\n",
    "        print(\"Train Accuracy: {0:.5f}\".format(train_acc))\n",
    "\n",
    "        \n",
    "        model.eval()\n",
    "        val_labels, val_preds = [], []\n",
    "        with torch.no_grad():\n",
    "            for step, batch in tqdm(enumerate(val_dataloader), total=len(val_dataloader), desc=f'Epoch: {epoch}'):\n",
    "                x_val, y_val = batch\n",
    "                x_val = x_val.to(DEVICE)\n",
    "                y_val = y_val.to(DEVICE)\n",
    "                \n",
    "                preds = model(x_val)\n",
    "\n",
    "                preds = preds.argmax(dim=1)\n",
    "                val_labels.extend(y_val.numpy())\n",
    "                val_preds.extend(preds.numpy())\n",
    "\n",
    "        val_acc = accuracy_score(val_labels, val_preds, )\n",
    "        print(\"Val Accuracy: {0:.5f}\".format(val_acc))\n",
    "\n",
    "        if val_acc > best_acc:\n",
    "            best_model = copy.deepcopy(model)\n",
    "            best_acc = val_acc\n",
    "            best_epoch = epoch\n",
    "            torch.save(best_model, f'{checkpoint_save_path}/checkpoint_{best_acc}_{best_epoch}ep.pth')\n",
    "        \n",
    "        scheduler.step(loss)\n",
    "\n",
    "        wandb.log({\"Train/Loss\" : train_loss}, step=epoch)\n",
    "        wandb.log({\"Train/Accuracy\" : train_acc}, step=epoch)\n",
    "        wandb.log({\"Val/Accuracy\" : val_acc}, step=epoch)"
   ]
  },
  {
   "cell_type": "code",
   "execution_count": 16,
   "id": "02873fb7",
   "metadata": {},
   "outputs": [
    {
     "name": "stderr",
     "output_type": "stream",
     "text": [
      "Epoch: 0: 100%|██████████| 4312/4312 [53:02<00:00,  1.35it/s]\n"
     ]
    },
    {
     "name": "stdout",
     "output_type": "stream",
     "text": [
      "Train Loss: 7.98733\n",
      "Train Accuracy: 0.47286\n"
     ]
    },
    {
     "name": "stderr",
     "output_type": "stream",
     "text": [
      "Epoch: 0: 100%|██████████| 438/438 [02:03<00:00,  3.56it/s]\n"
     ]
    },
    {
     "name": "stdout",
     "output_type": "stream",
     "text": [
      "Val Accuracy: 0.34534\n"
     ]
    },
    {
     "name": "stderr",
     "output_type": "stream",
     "text": [
      "Epoch: 1: 100%|██████████| 4312/4312 [52:26<00:00,  1.37it/s]\n"
     ]
    },
    {
     "name": "stdout",
     "output_type": "stream",
     "text": [
      "Train Loss: 4.09291\n",
      "Train Accuracy: 0.81097\n"
     ]
    },
    {
     "name": "stderr",
     "output_type": "stream",
     "text": [
      "Epoch: 1: 100%|██████████| 438/438 [02:09<00:00,  3.38it/s]\n"
     ]
    },
    {
     "name": "stdout",
     "output_type": "stream",
     "text": [
      "Val Accuracy: 0.34591\n"
     ]
    },
    {
     "name": "stderr",
     "output_type": "stream",
     "text": [
      "Epoch: 2: 100%|██████████| 4312/4312 [1:01:42<00:00,  1.16it/s]  \n"
     ]
    },
    {
     "name": "stdout",
     "output_type": "stream",
     "text": [
      "Train Loss: 2.17412\n",
      "Train Accuracy: 0.91528\n"
     ]
    },
    {
     "name": "stderr",
     "output_type": "stream",
     "text": [
      "Epoch: 2: 100%|██████████| 438/438 [01:59<00:00,  3.66it/s]\n"
     ]
    },
    {
     "name": "stdout",
     "output_type": "stream",
     "text": [
      "Val Accuracy: 0.32647\n"
     ]
    },
    {
     "name": "stderr",
     "output_type": "stream",
     "text": [
      "Epoch: 3: 100%|██████████| 4312/4312 [52:48<00:00,  1.36it/s]\n"
     ]
    },
    {
     "name": "stdout",
     "output_type": "stream",
     "text": [
      "Train Loss: 1.28526\n",
      "Train Accuracy: 0.95112\n"
     ]
    },
    {
     "name": "stderr",
     "output_type": "stream",
     "text": [
      "Epoch: 3: 100%|██████████| 438/438 [02:01<00:00,  3.61it/s]\n"
     ]
    },
    {
     "name": "stdout",
     "output_type": "stream",
     "text": [
      "Val Accuracy: 0.36535\n"
     ]
    },
    {
     "name": "stderr",
     "output_type": "stream",
     "text": [
      "Epoch: 4: 100%|██████████| 4312/4312 [54:06<00:00,  1.33it/s]\n"
     ]
    },
    {
     "name": "stdout",
     "output_type": "stream",
     "text": [
      "Train Loss: 0.82957\n",
      "Train Accuracy: 0.96712\n"
     ]
    },
    {
     "name": "stderr",
     "output_type": "stream",
     "text": [
      "Epoch: 4: 100%|██████████| 438/438 [02:11<00:00,  3.33it/s]\n"
     ]
    },
    {
     "name": "stdout",
     "output_type": "stream",
     "text": [
      "Val Accuracy: 0.33505\n"
     ]
    },
    {
     "name": "stderr",
     "output_type": "stream",
     "text": [
      "Epoch: 5:  92%|█████████▏| 3956/4312 [49:35<04:25,  1.34it/s]wandb: Network error (ConnectTimeout), entering retry loop.\n",
      "Epoch: 5: 100%|██████████| 4312/4312 [54:06<00:00,  1.33it/s]\n"
     ]
    },
    {
     "name": "stdout",
     "output_type": "stream",
     "text": [
      "Train Loss: 0.61339\n",
      "Train Accuracy: 0.97379\n"
     ]
    },
    {
     "name": "stderr",
     "output_type": "stream",
     "text": [
      "Epoch: 5: 100%|██████████| 438/438 [02:10<00:00,  3.36it/s]\n"
     ]
    },
    {
     "name": "stdout",
     "output_type": "stream",
     "text": [
      "Val Accuracy: 0.32419\n"
     ]
    },
    {
     "name": "stderr",
     "output_type": "stream",
     "text": [
      "Epoch: 6:  41%|████      | 1755/4312 [22:04<32:09,  1.33it/s]\n"
     ]
    },
    {
     "ename": "KeyboardInterrupt",
     "evalue": "",
     "output_type": "error",
     "traceback": [
      "\u001b[0;31m---------------------------------------------------------------------------\u001b[0m",
      "\u001b[0;31mKeyboardInterrupt\u001b[0m                         Traceback (most recent call last)",
      "Cell \u001b[0;32mIn[16], line 1\u001b[0m\n\u001b[0;32m----> 1\u001b[0m train_model()\n",
      "Cell \u001b[0;32mIn[15], line 26\u001b[0m, in \u001b[0;36mtrain_model\u001b[0;34m()\u001b[0m\n\u001b[1;32m     22\u001b[0m preds \u001b[39m=\u001b[39m model(x_train)\n\u001b[1;32m     24\u001b[0m loss \u001b[39m=\u001b[39m criterion(preds, y_train)\n\u001b[0;32m---> 26\u001b[0m loss\u001b[39m.\u001b[39;49mbackward()\n\u001b[1;32m     27\u001b[0m optimizer\u001b[39m.\u001b[39mstep()\n\u001b[1;32m     29\u001b[0m train_loss \u001b[39m+\u001b[39m\u001b[39m=\u001b[39m loss\u001b[39m.\u001b[39mitem()\n",
      "File \u001b[0;32m/opt/homebrew/lib/python3.10/site-packages/torch/_tensor.py:396\u001b[0m, in \u001b[0;36mTensor.backward\u001b[0;34m(self, gradient, retain_graph, create_graph, inputs)\u001b[0m\n\u001b[1;32m    387\u001b[0m \u001b[39mif\u001b[39;00m has_torch_function_unary(\u001b[39mself\u001b[39m):\n\u001b[1;32m    388\u001b[0m     \u001b[39mreturn\u001b[39;00m handle_torch_function(\n\u001b[1;32m    389\u001b[0m         Tensor\u001b[39m.\u001b[39mbackward,\n\u001b[1;32m    390\u001b[0m         (\u001b[39mself\u001b[39m,),\n\u001b[0;32m   (...)\u001b[0m\n\u001b[1;32m    394\u001b[0m         create_graph\u001b[39m=\u001b[39mcreate_graph,\n\u001b[1;32m    395\u001b[0m         inputs\u001b[39m=\u001b[39minputs)\n\u001b[0;32m--> 396\u001b[0m torch\u001b[39m.\u001b[39;49mautograd\u001b[39m.\u001b[39;49mbackward(\u001b[39mself\u001b[39;49m, gradient, retain_graph, create_graph, inputs\u001b[39m=\u001b[39;49minputs)\n",
      "File \u001b[0;32m/opt/homebrew/lib/python3.10/site-packages/torch/autograd/__init__.py:173\u001b[0m, in \u001b[0;36mbackward\u001b[0;34m(tensors, grad_tensors, retain_graph, create_graph, grad_variables, inputs)\u001b[0m\n\u001b[1;32m    168\u001b[0m     retain_graph \u001b[39m=\u001b[39m create_graph\n\u001b[1;32m    170\u001b[0m \u001b[39m# The reason we repeat same the comment below is that\u001b[39;00m\n\u001b[1;32m    171\u001b[0m \u001b[39m# some Python versions print out the first line of a multi-line function\u001b[39;00m\n\u001b[1;32m    172\u001b[0m \u001b[39m# calls in the traceback and some print out the last line\u001b[39;00m\n\u001b[0;32m--> 173\u001b[0m Variable\u001b[39m.\u001b[39;49m_execution_engine\u001b[39m.\u001b[39;49mrun_backward(  \u001b[39m# Calls into the C++ engine to run the backward pass\u001b[39;49;00m\n\u001b[1;32m    174\u001b[0m     tensors, grad_tensors_, retain_graph, create_graph, inputs,\n\u001b[1;32m    175\u001b[0m     allow_unreachable\u001b[39m=\u001b[39;49m\u001b[39mTrue\u001b[39;49;00m, accumulate_grad\u001b[39m=\u001b[39;49m\u001b[39mTrue\u001b[39;49;00m)\n",
      "\u001b[0;31mKeyboardInterrupt\u001b[0m: "
     ]
    }
   ],
   "source": [
    "train_model()"
   ]
  },
  {
   "attachments": {},
   "cell_type": "markdown",
   "id": "93876027",
   "metadata": {},
   "source": [
    "## Testing"
   ]
  },
  {
   "cell_type": "code",
   "execution_count": 17,
   "id": "dccbdab0",
   "metadata": {},
   "outputs": [
    {
     "name": "stdout",
     "output_type": "stream",
     "text": [
      "\n"
     ]
    }
   ],
   "source": [
    "model = torch.load('experiments/exp3/checkpoints/checkpoint_0.3653516295025729_3ep.pth', map_location=DEVICE)\n",
    "model.eval()\n",
    "print()"
   ]
  },
  {
   "cell_type": "code",
   "execution_count": 18,
   "id": "c295e43d",
   "metadata": {},
   "outputs": [
    {
     "name": "stdout",
     "output_type": "stream",
     "text": [
      "data/dancing_classes/test/9/cut_videos/images/0\n"
     ]
    }
   ],
   "source": [
    "# go throw every class and its every folder to get list of folder paths   \n",
    "path = 'data/dancing_classes/test/'\n",
    "all_folders = []\n",
    "for label in [i for i in os.listdir(path) if not i.endswith('.csv')]:\n",
    "    label_path = os.path.join(os.path.join(path, label), 'cut_videos/images')\n",
    "    folders = [os.path.join(label_path, i) for i in os.listdir(label_path) if '.DS' not in i]\n",
    "    all_folders.extend(folders)\n",
    "print(all_folders[0])"
   ]
  },
  {
   "cell_type": "code",
   "execution_count": 19,
   "id": "be8bd349",
   "metadata": {},
   "outputs": [],
   "source": [
    "test_transforms = transforms.Compose([\n",
    "            transforms.Resize((h,w)),\n",
    "            transforms.ToTensor(),\n",
    "            transforms.Normalize(mean, std),\n",
    "            ])"
   ]
  },
  {
   "cell_type": "code",
   "execution_count": 20,
   "id": "5128a3cb",
   "metadata": {},
   "outputs": [
    {
     "name": "stderr",
     "output_type": "stream",
     "text": [
      "100%|██████████| 64/64 [02:34<00:00,  2.42s/it]\n"
     ]
    }
   ],
   "source": [
    "timestamps = 4 # take every 4 frames of folder to predict label \n",
    "labels, predictions = [], [] # lists to save true labels and predictions\n",
    "\n",
    "for folder_path in tqdm(all_folders):\n",
    "    true_label, pred_label = predict_label(model,folder_path, timestamps, test_transforms, inference_mode=False)\n",
    "    \n",
    "    labels.append(true_label)\n",
    "    predictions.append(pred_label)"
   ]
  },
  {
   "cell_type": "code",
   "execution_count": 21,
   "id": "d9148baa",
   "metadata": {},
   "outputs": [
    {
     "data": {
      "text/plain": [
       "0.34375"
      ]
     },
     "execution_count": 21,
     "metadata": {},
     "output_type": "execute_result"
    }
   ],
   "source": [
    "accuracy_score(labels, predictions)"
   ]
  },
  {
   "cell_type": "code",
   "execution_count": null,
   "id": "db5841b1",
   "metadata": {},
   "outputs": [],
   "source": []
  }
 ],
 "metadata": {
  "kernelspec": {
   "display_name": "video_venv",
   "language": "python",
   "name": "video_venv"
  },
  "language_info": {
   "codemirror_mode": {
    "name": "ipython",
    "version": 3
   },
   "file_extension": ".py",
   "mimetype": "text/x-python",
   "name": "python",
   "nbconvert_exporter": "python",
   "pygments_lexer": "ipython3",
   "version": "3.10.9"
  }
 },
 "nbformat": 4,
 "nbformat_minor": 5
}
