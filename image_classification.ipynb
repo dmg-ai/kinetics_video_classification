{
 "cells": [
  {
   "cell_type": "code",
   "execution_count": 2,
   "id": "68f070be",
   "metadata": {},
   "outputs": [
    {
     "name": "stderr",
     "output_type": "stream",
     "text": [
      "/Users/dmitry/Desktop/venvs/kb_worker_venv/lib/python3.10/site-packages/tqdm/auto.py:22: TqdmWarning: IProgress not found. Please update jupyter and ipywidgets. See https://ipywidgets.readthedocs.io/en/stable/user_install.html\n",
      "  from .autonotebook import tqdm as notebook_tqdm\n"
     ]
    }
   ],
   "source": [
    "import copy\n",
    "import glob\n",
    "import os\n",
    "import random\n",
    "import re\n",
    "\n",
    "\n",
    "import numpy as np\n",
    "import torch\n",
    "import torchvision.transforms as transforms\n",
    "from PIL import Image\n",
    "from sklearn.metrics import accuracy_score\n",
    "from torch import nn\n",
    "from torch.optim.lr_scheduler import CosineAnnealingLR, ReduceLROnPlateau\n",
    "from torch.utils.data import DataLoader, Dataset\n",
    "from torchvision import models\n",
    "from tqdm import tqdm\n",
    "\n",
    "import wandb\n",
    "\n",
    "def seed_everything(seed=1234):\n",
    "    random.seed(seed)\n",
    "    os.environ[\"PYTHONHASHSEED\"] = str(seed)\n",
    "    np.random.seed(seed)\n",
    "    torch.manual_seed(seed)\n",
    "    torch.cuda.manual_seed(seed)\n",
    "    torch.backends.cudnn.deterministic = True\n",
    "seed_everything(2023)"
   ]
  },
  {
   "cell_type": "code",
   "execution_count": 2,
   "id": "e7554738",
   "metadata": {},
   "outputs": [
    {
     "name": "stderr",
     "output_type": "stream",
     "text": [
      "\u001b[34m\u001b[1mwandb\u001b[0m: Currently logged in as: \u001b[33mdmitryai\u001b[0m (\u001b[33mcv-itmo\u001b[0m). Use \u001b[1m`wandb login --relogin`\u001b[0m to force relogin\n"
     ]
    },
    {
     "data": {
      "text/html": [
       "Tracking run with wandb version 0.13.7"
      ],
      "text/plain": [
       "<IPython.core.display.HTML object>"
      ]
     },
     "metadata": {},
     "output_type": "display_data"
    },
    {
     "data": {
      "text/html": [
       "Run data is saved locally in <code>/Users/dmitry/Desktop/cv_itmo/kinetics_video_classification/wandb/run-20230109_224533-1lz6thcc</code>"
      ],
      "text/plain": [
       "<IPython.core.display.HTML object>"
      ]
     },
     "metadata": {},
     "output_type": "display_data"
    },
    {
     "data": {
      "text/html": [
       "Syncing run <strong><a href=\"https://wandb.ai/cv-itmo/video_classification/runs/1lz6thcc\" target=\"_blank\">frames_resnet18_exp2</a></strong> to <a href=\"https://wandb.ai/cv-itmo/video_classification\" target=\"_blank\">Weights & Biases</a> (<a href=\"https://wandb.me/run\" target=\"_blank\">docs</a>)<br/>"
      ],
      "text/plain": [
       "<IPython.core.display.HTML object>"
      ]
     },
     "metadata": {},
     "output_type": "display_data"
    },
    {
     "data": {
      "text/html": [
       "<button onClick=\"this.nextSibling.style.display='block';this.style.display='none';\">Display W&B run</button><iframe src=\"https://wandb.ai/cv-itmo/video_classification/runs/1lz6thcc?jupyter=true\" style=\"border:none;width:100%;height:420px;display:none;\"></iframe>"
      ],
      "text/plain": [
       "<wandb.sdk.wandb_run.Run at 0x175ecf8e0>"
      ]
     },
     "execution_count": 2,
     "metadata": {},
     "output_type": "execute_result"
    }
   ],
   "source": [
    "wandb.init(\n",
    "    project='video_classification',\n",
    "    name=f'frames_resnet18_exp2',\n",
    "    config={\n",
    "        \"epochs\": 10,\n",
    "        \"batch_size\": 4,\n",
    "        #\"timestamps\": 4,\n",
    "    },\n",
    ")"
   ]
  },
  {
   "attachments": {},
   "cell_type": "markdown",
   "id": "13f097c9",
   "metadata": {},
   "source": [
    "## Dataset"
   ]
  },
  {
   "cell_type": "code",
   "execution_count": 4,
   "id": "36b24fd4",
   "metadata": {},
   "outputs": [],
   "source": [
    "class VideoDataset(Dataset):\n",
    "    def __init__(self, path, transform):   \n",
    "        self.path = path\n",
    "        self.transform = transform\n",
    "\n",
    "        if self.path[-1] == '/':\n",
    "            self.path = self.path[:-1]\n",
    "        self.frames_path = glob.glob(f'{path}/*/*/*/*.jpg')\n",
    "\n",
    "    def __len__(self):\n",
    "        return len(self.frames_path)\n",
    "\n",
    "    def __getitem__(self, idx):\n",
    "        img_path = self.frames_path[idx]\n",
    "        label = img_path.split('/')[-4]\n",
    "\n",
    "        image = Image.open(img_path)\n",
    "        \n",
    "        if self.transform:\n",
    "            image = self.transform(image)\n",
    "\n",
    "        return image, int(label)"
   ]
  },
  {
   "cell_type": "code",
   "execution_count": 5,
   "id": "f982f4d8",
   "metadata": {},
   "outputs": [],
   "source": [
    "h, w = 224, 224\n",
    "mean = [0.485, 0.456, 0.406]\n",
    "std = [0.229, 0.224, 0.225]"
   ]
  },
  {
   "cell_type": "code",
   "execution_count": 6,
   "id": "476106c3",
   "metadata": {},
   "outputs": [],
   "source": [
    "train_transforms = transforms.Compose([\n",
    "            transforms.Resize((h,w)),\n",
    "            transforms.RandomHorizontalFlip(p=0.5),\n",
    "            transforms.RandomAffine(degrees=0, translate=(0.1,0.1)),\n",
    "            transforms.ToTensor(),\n",
    "            transforms.Normalize(mean, std),\n",
    "            ])"
   ]
  },
  {
   "cell_type": "code",
   "execution_count": 7,
   "id": "5bfffd90",
   "metadata": {},
   "outputs": [],
   "source": [
    "train_path = '/Users/dmitry/Desktop/cv_itmo/kinetics_video_classification/data/train/'\n",
    "val_path = '/Users/dmitry/Desktop/cv_itmo/kinetics_video_classification/data/val/'\n",
    "\n",
    "train_ds = VideoDataset(path=train_path, transform=train_transforms)\n",
    "val_ds = VideoDataset(path=val_path, transform=train_transforms)"
   ]
  },
  {
   "cell_type": "code",
   "execution_count": 8,
   "id": "f7755460",
   "metadata": {},
   "outputs": [
    {
     "data": {
      "text/plain": [
       "torch.Size([3, 224, 224])"
      ]
     },
     "execution_count": 8,
     "metadata": {},
     "output_type": "execute_result"
    }
   ],
   "source": [
    "val_ds.__getitem__(100)[0].shape"
   ]
  },
  {
   "cell_type": "code",
   "execution_count": 9,
   "id": "55ff4b3d",
   "metadata": {},
   "outputs": [],
   "source": [
    "train_dataloader = DataLoader(train_ds, batch_size=4, shuffle=True)\n",
    "val_dataloader = DataLoader(val_ds, batch_size=4, shuffle=False)"
   ]
  },
  {
   "attachments": {},
   "cell_type": "markdown",
   "id": "a4f11106",
   "metadata": {},
   "source": [
    "## Model"
   ]
  },
  {
   "cell_type": "code",
   "execution_count": 10,
   "id": "c03b28a1",
   "metadata": {},
   "outputs": [],
   "source": [
    "num_classes = 2\n",
    "\n",
    "model = models.resnet18(weights = 'ResNet18_Weights.IMAGENET1K_V1')\n",
    "in_features = model.fc.in_features \n",
    "model.fc = nn.Linear(in_features, num_classes)"
   ]
  },
  {
   "cell_type": "code",
   "execution_count": 11,
   "id": "8ba692b0",
   "metadata": {},
   "outputs": [
    {
     "data": {
      "text/plain": [
       "(torch.Size([4, 3, 224, 224]), torch.Size([4]))"
      ]
     },
     "execution_count": 11,
     "metadata": {},
     "output_type": "execute_result"
    }
   ],
   "source": [
    "x,y = next(iter(train_dataloader))\n",
    "x.shape, y.shape"
   ]
  },
  {
   "cell_type": "code",
   "execution_count": 12,
   "id": "a2ada8d4",
   "metadata": {},
   "outputs": [],
   "source": [
    "with torch.no_grad():\n",
    "    y_pred = model(x)"
   ]
  },
  {
   "cell_type": "code",
   "execution_count": 13,
   "id": "7c0e3272",
   "metadata": {},
   "outputs": [
    {
     "name": "stdout",
     "output_type": "stream",
     "text": [
      "tensor([[-0.5900,  0.2168],\n",
      "        [ 0.3127,  0.1464],\n",
      "        [-0.2468,  0.1933],\n",
      "        [-0.1194, -0.8725]])\n"
     ]
    },
    {
     "data": {
      "text/plain": [
       "(tensor([1, 0, 1, 0]), tensor([0, 1, 1, 1]))"
      ]
     },
     "execution_count": 13,
     "metadata": {},
     "output_type": "execute_result"
    }
   ],
   "source": [
    "print(y_pred)\n",
    "torch.argmax(y_pred,dim=1), y"
   ]
  },
  {
   "cell_type": "code",
   "execution_count": 14,
   "id": "ad706e9e",
   "metadata": {},
   "outputs": [],
   "source": [
    "EPOCHS = 10\n",
    "DEVICE = 'cpu'\n",
    "EXP_PATH = 'experiments/exp2'\n",
    "criterion = nn.CrossEntropyLoss(reduction=\"sum\")\n",
    "optimizer = torch.optim.Adam(model.parameters(), lr=3e-5)\n",
    "scheduler = ReduceLROnPlateau(optimizer, mode='min',factor=0.5, patience=5,verbose=1)"
   ]
  },
  {
   "cell_type": "code",
   "execution_count": 15,
   "id": "30cc0a7e",
   "metadata": {},
   "outputs": [],
   "source": [
    "def train_model():\n",
    "    best_model = None\n",
    "    best_acc = 0\n",
    "    best_epoch = 0\n",
    "    \n",
    "    checkpoint_save_path = f'{EXP_PATH}/checkpoints'\n",
    "    os.makedirs(checkpoint_save_path,exist_ok=True)\n",
    "    \n",
    "    for epoch in range(EPOCHS):\n",
    "\n",
    "        model.train()\n",
    "        train_loss = 0\n",
    "        train_labels, train_preds = [], []\n",
    "\n",
    "        for step, batch in tqdm(enumerate(train_dataloader), total=len(train_dataloader), desc=f'Epoch: {epoch}'):\n",
    "            x_train, y_train = batch\n",
    "            x_train = x_train.to(DEVICE)\n",
    "            y_train = y_train.to(DEVICE)\n",
    "\n",
    "            optimizer.zero_grad()\n",
    "            \n",
    "            preds = model(x_train)\n",
    "\n",
    "            loss = criterion(preds, y_train)\n",
    "\n",
    "            loss.backward()\n",
    "            optimizer.step()\n",
    "            \n",
    "            train_loss += loss.item()\n",
    "\n",
    "            preds = preds.argmax(dim=1)\n",
    "            train_labels.extend(y_train.numpy())\n",
    "            train_preds.extend(preds.numpy())\n",
    "\n",
    "        train_loss = train_loss / len(train_dataloader)\n",
    "        train_acc = accuracy_score(train_labels, train_preds)\n",
    "        print(\"Train Loss: {0:.5f}\".format(train_loss))\n",
    "        print(\"Train Accuracy: {0:.5f}\".format(train_acc))\n",
    "\n",
    "        \n",
    "        model.eval()\n",
    "        val_labels, val_preds = [], []\n",
    "        with torch.no_grad():\n",
    "            for step, batch in tqdm(enumerate(val_dataloader), total=len(val_dataloader), desc=f'Epoch: {epoch}'):\n",
    "                x_val, y_val = batch\n",
    "                x_val = x_val.to(DEVICE)\n",
    "                y_val = y_val.to(DEVICE)\n",
    "                \n",
    "                preds = model(x_val)\n",
    "\n",
    "                preds = preds.argmax(dim=1)\n",
    "                val_labels.extend(y_val.numpy())\n",
    "                val_preds.extend(preds.numpy())\n",
    "\n",
    "        val_acc = accuracy_score(val_labels, val_preds)\n",
    "        print(\"Val Accuracy: {0:.5f}\".format(val_acc))\n",
    "\n",
    "        if val_acc > best_acc:\n",
    "            best_model = copy.deepcopy(model)\n",
    "            best_acc = val_acc\n",
    "            best_epoch = epoch\n",
    "            torch.save(best_model, f'{checkpoint_save_path}/checkpoint_{best_acc}_{best_epoch}ep.pth')\n",
    "        \n",
    "        scheduler.step(loss)\n",
    "\n",
    "        wandb.log({\"Train/Loss\" : train_loss}, step=epoch)\n",
    "        wandb.log({\"Train/Accuracy\" : train_acc}, step=epoch)\n",
    "        wandb.log({\"Val/Accuracy\" : val_acc}, step=epoch)"
   ]
  },
  {
   "cell_type": "code",
   "execution_count": 15,
   "id": "02873fb7",
   "metadata": {},
   "outputs": [
    {
     "name": "stderr",
     "output_type": "stream",
     "text": [
      "Epoch: 0: 100%|██████████| 4813/4813 [15:08<00:00,  5.30it/s]\n"
     ]
    },
    {
     "name": "stdout",
     "output_type": "stream",
     "text": [
      "Train Loss: 1.23348\n",
      "Train Accuracy: 0.86822\n"
     ]
    },
    {
     "name": "stderr",
     "output_type": "stream",
     "text": [
      "Epoch: 0: 100%|██████████| 918/918 [01:02<00:00, 14.71it/s]\n"
     ]
    },
    {
     "name": "stdout",
     "output_type": "stream",
     "text": [
      "Val Accuracy: 0.67693\n"
     ]
    },
    {
     "name": "stderr",
     "output_type": "stream",
     "text": [
      "Epoch: 1: 100%|██████████| 4813/4813 [15:19<00:00,  5.23it/s]\n"
     ]
    },
    {
     "name": "stdout",
     "output_type": "stream",
     "text": [
      "Train Loss: 0.86243\n",
      "Train Accuracy: 0.91196\n"
     ]
    },
    {
     "name": "stderr",
     "output_type": "stream",
     "text": [
      "Epoch: 1: 100%|██████████| 918/918 [00:59<00:00, 15.35it/s]\n"
     ]
    },
    {
     "name": "stdout",
     "output_type": "stream",
     "text": [
      "Val Accuracy: 0.66685\n"
     ]
    },
    {
     "name": "stderr",
     "output_type": "stream",
     "text": [
      "Epoch: 2: 100%|██████████| 4813/4813 [15:16<00:00,  5.25it/s]\n"
     ]
    },
    {
     "name": "stdout",
     "output_type": "stream",
     "text": [
      "Train Loss: 0.61193\n",
      "Train Accuracy: 0.94208\n"
     ]
    },
    {
     "name": "stderr",
     "output_type": "stream",
     "text": [
      "Epoch: 2: 100%|██████████| 918/918 [01:00<00:00, 15.18it/s]\n"
     ]
    },
    {
     "name": "stdout",
     "output_type": "stream",
     "text": [
      "Val Accuracy: 0.69709\n"
     ]
    },
    {
     "name": "stderr",
     "output_type": "stream",
     "text": [
      "Epoch: 3: 100%|██████████| 4813/4813 [15:23<00:00,  5.21it/s]\n"
     ]
    },
    {
     "name": "stdout",
     "output_type": "stream",
     "text": [
      "Train Loss: 0.33966\n",
      "Train Accuracy: 0.97081\n"
     ]
    },
    {
     "name": "stderr",
     "output_type": "stream",
     "text": [
      "Epoch: 3: 100%|██████████| 918/918 [00:59<00:00, 15.37it/s]\n"
     ]
    },
    {
     "name": "stdout",
     "output_type": "stream",
     "text": [
      "Val Accuracy: 0.62599\n"
     ]
    },
    {
     "name": "stderr",
     "output_type": "stream",
     "text": [
      "Epoch: 4: 100%|██████████| 4813/4813 [15:08<00:00,  5.30it/s]\n"
     ]
    },
    {
     "name": "stdout",
     "output_type": "stream",
     "text": [
      "Train Loss: 0.20606\n",
      "Train Accuracy: 0.98343\n"
     ]
    },
    {
     "name": "stderr",
     "output_type": "stream",
     "text": [
      "Epoch: 4: 100%|██████████| 918/918 [01:00<00:00, 15.28it/s]\n"
     ]
    },
    {
     "name": "stdout",
     "output_type": "stream",
     "text": [
      "Val Accuracy: 0.69109\n"
     ]
    },
    {
     "name": "stderr",
     "output_type": "stream",
     "text": [
      "Epoch: 5: 100%|██████████| 4813/4813 [15:29<00:00,  5.18it/s]\n"
     ]
    },
    {
     "name": "stdout",
     "output_type": "stream",
     "text": [
      "Train Loss: 0.16574\n",
      "Train Accuracy: 0.98624\n"
     ]
    },
    {
     "name": "stderr",
     "output_type": "stream",
     "text": [
      "Epoch: 5: 100%|██████████| 918/918 [01:01<00:00, 14.98it/s]\n"
     ]
    },
    {
     "name": "stdout",
     "output_type": "stream",
     "text": [
      "Val Accuracy: 0.65704\n"
     ]
    },
    {
     "name": "stderr",
     "output_type": "stream",
     "text": [
      "Epoch: 6: 100%|██████████| 4813/4813 [52:13<00:00,  1.54it/s]     \n"
     ]
    },
    {
     "name": "stdout",
     "output_type": "stream",
     "text": [
      "Train Loss: 0.12215\n",
      "Train Accuracy: 0.98857\n"
     ]
    },
    {
     "name": "stderr",
     "output_type": "stream",
     "text": [
      "Epoch: 6: 100%|██████████| 918/918 [01:00<00:00, 15.14it/s]\n"
     ]
    },
    {
     "name": "stdout",
     "output_type": "stream",
     "text": [
      "Val Accuracy: 0.69327\n"
     ]
    },
    {
     "name": "stderr",
     "output_type": "stream",
     "text": [
      "Epoch: 7: 100%|██████████| 4813/4813 [16:08<00:00,  4.97it/s]\n"
     ]
    },
    {
     "name": "stdout",
     "output_type": "stream",
     "text": [
      "Train Loss: 0.11229\n",
      "Train Accuracy: 0.99096\n"
     ]
    },
    {
     "name": "stderr",
     "output_type": "stream",
     "text": [
      "Epoch: 7: 100%|██████████| 918/918 [01:05<00:00, 14.06it/s]\n"
     ]
    },
    {
     "name": "stdout",
     "output_type": "stream",
     "text": [
      "Val Accuracy: 0.62926\n"
     ]
    },
    {
     "name": "stderr",
     "output_type": "stream",
     "text": [
      "Epoch: 8: 100%|██████████| 4813/4813 [16:55<00:00,  4.74it/s]\n"
     ]
    },
    {
     "name": "stdout",
     "output_type": "stream",
     "text": [
      "Train Loss: 0.09479\n",
      "Train Accuracy: 0.99200\n"
     ]
    },
    {
     "name": "stderr",
     "output_type": "stream",
     "text": [
      "Epoch: 8: 100%|██████████| 918/918 [01:05<00:00, 14.11it/s]\n"
     ]
    },
    {
     "name": "stdout",
     "output_type": "stream",
     "text": [
      "Val Accuracy: 0.64696\n"
     ]
    },
    {
     "name": "stderr",
     "output_type": "stream",
     "text": [
      "Epoch: 9:  15%|█▍        | 715/4813 [02:31<14:18,  4.77it/s]wandb: Network error (ReadTimeout), entering retry loop.\n",
      "Epoch: 9: 100%|██████████| 4813/4813 [17:11<00:00,  4.67it/s]\n"
     ]
    },
    {
     "name": "stdout",
     "output_type": "stream",
     "text": [
      "Train Loss: 0.08483\n",
      "Train Accuracy: 0.99288\n"
     ]
    },
    {
     "name": "stderr",
     "output_type": "stream",
     "text": [
      "Epoch: 9: 100%|██████████| 918/918 [01:06<00:00, 13.71it/s]"
     ]
    },
    {
     "name": "stdout",
     "output_type": "stream",
     "text": [
      "Val Accuracy: 0.61536\n"
     ]
    },
    {
     "name": "stderr",
     "output_type": "stream",
     "text": [
      "\n"
     ]
    }
   ],
   "source": [
    "train_model()"
   ]
  },
  {
   "attachments": {},
   "cell_type": "markdown",
   "id": "94d4db2a",
   "metadata": {},
   "source": [
    "## Testing"
   ]
  },
  {
   "cell_type": "code",
   "execution_count": 20,
   "id": "97b193a2",
   "metadata": {},
   "outputs": [
    {
     "data": {
      "text/plain": [
       "34"
      ]
     },
     "execution_count": 20,
     "metadata": {},
     "output_type": "execute_result"
    }
   ],
   "source": [
    "path = 'data/test/'\n",
    "folders = glob.glob(f'{path}/*/*/*/*/')\n",
    "len(folders)"
   ]
  },
  {
   "cell_type": "code",
   "execution_count": 21,
   "id": "3d42fd45",
   "metadata": {},
   "outputs": [],
   "source": [
    "h, w = 224, 224\n",
    "mean = [0.485, 0.456, 0.406]\n",
    "std = [0.229, 0.224, 0.225]\n",
    "\n",
    "test_transforms = transforms.Compose([\n",
    "            transforms.Resize((h,w)),\n",
    "            transforms.ToTensor(),\n",
    "            transforms.Normalize(mean, std),\n",
    "            ])"
   ]
  },
  {
   "cell_type": "code",
   "execution_count": 26,
   "id": "43da8e8f",
   "metadata": {},
   "outputs": [
    {
     "name": "stderr",
     "output_type": "stream",
     "text": [
      "100%|██████████| 34/34 [01:34<00:00,  2.79s/it]\n"
     ]
    }
   ],
   "source": [
    "true_labels = []\n",
    "predictions = []\n",
    "\n",
    "for folder in tqdm(folders):\n",
    "    images = [os.path.join(folder, i) for i in os.listdir(folder)]\n",
    "\n",
    "    preds = []\n",
    "    for img_path in images:\n",
    "        img = Image.open(img_path)\n",
    "        img_tensor = test_transforms(img)\n",
    "        img_tensor = torch.unsqueeze(img_tensor,dim=0)\n",
    "        \n",
    "        with torch.no_grad():\n",
    "            pred = model(img_tensor)\n",
    "        pred_label = torch.argmax(pred, dim=1).item()\n",
    "\n",
    "        preds.append(pred_label)\n",
    "    true_labels.append(int(folder.split('/')[2]))\n",
    "    predictions.append(np.mean(preds))"
   ]
  },
  {
   "cell_type": "code",
   "execution_count": 32,
   "id": "5d93c9c1",
   "metadata": {},
   "outputs": [
    {
     "data": {
      "text/plain": [
       "0.8310669456066946"
      ]
     },
     "execution_count": 32,
     "metadata": {},
     "output_type": "execute_result"
    }
   ],
   "source": [
    "accuracy_score(true_labels, predictions)"
   ]
  },
  {
   "cell_type": "code",
   "execution_count": null,
   "id": "9df16aa7",
   "metadata": {},
   "outputs": [],
   "source": []
  }
 ],
 "metadata": {
  "kernelspec": {
   "display_name": "kb_worker_venv",
   "language": "python",
   "name": "kb_worker_venv"
  },
  "language_info": {
   "codemirror_mode": {
    "name": "ipython",
    "version": 3
   },
   "file_extension": ".py",
   "mimetype": "text/x-python",
   "name": "python",
   "nbconvert_exporter": "python",
   "pygments_lexer": "ipython3",
   "version": "3.10.9"
  }
 },
 "nbformat": 4,
 "nbformat_minor": 5
}
